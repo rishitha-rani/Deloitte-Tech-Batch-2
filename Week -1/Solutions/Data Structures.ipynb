{
 "cells": [
  {
   "cell_type": "markdown",
   "id": "1a80b102",
   "metadata": {},
   "source": [
    "### Data Structures\n",
    "\n",
    "         - Lists\n",
    "    \n",
    "         - Tuple\n",
    "        \n",
    "         - Dictionary\n",
    "            \n",
    "         - Set\n",
    "        \n",
    "### List Comprehension"
   ]
  },
  {
   "cell_type": "markdown",
   "id": "42c2e01d",
   "metadata": {},
   "source": [
    "#### Data Structures in Python\n",
    "##### Lists"
   ]
  },
  {
   "cell_type": "code",
   "execution_count": null,
   "id": "8371ad4b",
   "metadata": {},
   "outputs": [],
   "source": [
    "An ordered sequence of values enclosed within [ ].\n",
    "\n",
    "- List can be created by [] or list()\n",
    "\n",
    "- Lists are mutable : Can do changes\n",
    "\n",
    "-  List can contain multiple data types\n",
    "\n",
    "- Lists are iterables"
   ]
  },
  {
   "cell_type": "code",
   "execution_count": 1,
   "id": "93500aaa",
   "metadata": {},
   "outputs": [],
   "source": [
    "# Create an empty list\n",
    "l1=[]\n",
    "l2=list()"
   ]
  },
  {
   "cell_type": "code",
   "execution_count": 2,
   "id": "3ed6bde9",
   "metadata": {},
   "outputs": [
    {
     "data": {
      "text/plain": [
       "list"
      ]
     },
     "execution_count": 2,
     "metadata": {},
     "output_type": "execute_result"
    }
   ],
   "source": [
    "type(l1)"
   ]
  },
  {
   "cell_type": "code",
   "execution_count": 3,
   "id": "10200cb9",
   "metadata": {},
   "outputs": [
    {
     "data": {
      "text/plain": [
       "list"
      ]
     },
     "execution_count": 3,
     "metadata": {},
     "output_type": "execute_result"
    }
   ],
   "source": [
    "type(l2)"
   ]
  },
  {
   "cell_type": "code",
   "execution_count": 4,
   "id": "9d2cc50f",
   "metadata": {},
   "outputs": [
    {
     "data": {
      "text/plain": [
       "[1, 2, 3, 4]"
      ]
     },
     "execution_count": 4,
     "metadata": {},
     "output_type": "execute_result"
    }
   ],
   "source": [
    "# create a list with int data types\n",
    "newlist=[1,2,3,4]\n",
    "newlist"
   ]
  },
  {
   "cell_type": "code",
   "execution_count": 5,
   "id": "139194c1",
   "metadata": {},
   "outputs": [
    {
     "data": {
      "text/plain": [
       "['hi', 'wel', 'new']"
      ]
     },
     "execution_count": 5,
     "metadata": {},
     "output_type": "execute_result"
    }
   ],
   "source": [
    "# create a list with string data type \n",
    "newlist2=['hi','wel','new']\n",
    "newlist2"
   ]
  },
  {
   "cell_type": "code",
   "execution_count": 6,
   "id": "77d50381",
   "metadata": {},
   "outputs": [
    {
     "data": {
      "text/plain": [
       "[1, 'hi', True]"
      ]
     },
     "execution_count": 6,
     "metadata": {},
     "output_type": "execute_result"
    }
   ],
   "source": [
    "# create a list with mixed data types\n",
    "newlist3=[1,'hi',True]\n",
    "newlist3"
   ]
  },
  {
   "cell_type": "code",
   "execution_count": 8,
   "id": "6872b83d",
   "metadata": {},
   "outputs": [
    {
     "data": {
      "text/plain": [
       "[5, 6.5, 'age', True]"
      ]
     },
     "execution_count": 8,
     "metadata": {},
     "output_type": "execute_result"
    }
   ],
   "source": [
    "# Lists are mutable\n",
    "# change the value '5' into '0' in the list ls3\n",
    "ls3=[5,6.5,'age',True]\n",
    "ls3"
   ]
  },
  {
   "cell_type": "code",
   "execution_count": 9,
   "id": "400fe506",
   "metadata": {},
   "outputs": [
    {
     "data": {
      "text/plain": [
       "[0, 6.5, 'age', True]"
      ]
     },
     "execution_count": 9,
     "metadata": {},
     "output_type": "execute_result"
    }
   ],
   "source": [
    "ls3[0]=0\n",
    "ls3"
   ]
  },
  {
   "cell_type": "code",
   "execution_count": 10,
   "id": "56313591",
   "metadata": {},
   "outputs": [
    {
     "data": {
      "text/plain": [
       "'age'"
      ]
     },
     "execution_count": 10,
     "metadata": {},
     "output_type": "execute_result"
    }
   ],
   "source": [
    "# Extract 'age' from the list ls3\n",
    "ls3[2]"
   ]
  },
  {
   "cell_type": "code",
   "execution_count": 11,
   "id": "18c666d3",
   "metadata": {},
   "outputs": [
    {
     "data": {
      "text/plain": [
       "'e'"
      ]
     },
     "execution_count": 11,
     "metadata": {},
     "output_type": "execute_result"
    }
   ],
   "source": [
    "# Extract 'e'  from the list ls3\n",
    "ls3[2][2]"
   ]
  },
  {
   "cell_type": "code",
   "execution_count": 14,
   "id": "ec42fa2a",
   "metadata": {},
   "outputs": [
    {
     "data": {
      "text/plain": [
       "('age', True)"
      ]
     },
     "execution_count": 14,
     "metadata": {},
     "output_type": "execute_result"
    }
   ],
   "source": [
    "# Extract 'age',True from the list ls3\n",
    "ls3[2],ls3[3]"
   ]
  },
  {
   "cell_type": "code",
   "execution_count": 15,
   "id": "37b8bc0b",
   "metadata": {},
   "outputs": [
    {
     "data": {
      "text/plain": [
       "['age', True]"
      ]
     },
     "execution_count": 15,
     "metadata": {},
     "output_type": "execute_result"
    }
   ],
   "source": [
    "ls3[2:4]\n",
    "#ls3[2:]"
   ]
  },
  {
   "cell_type": "code",
   "execution_count": 16,
   "id": "21a8653f",
   "metadata": {},
   "outputs": [
    {
     "data": {
      "text/plain": [
       "[3, 4]"
      ]
     },
     "execution_count": 16,
     "metadata": {},
     "output_type": "execute_result"
    }
   ],
   "source": [
    "ls4= [25,31,[3,4],-5]\n",
    "# extract [3,4] from the list ls4.\n",
    "ls4[2]"
   ]
  },
  {
   "cell_type": "code",
   "execution_count": 17,
   "id": "3d7e4da5",
   "metadata": {},
   "outputs": [
    {
     "data": {
      "text/plain": [
       "[43, 89]"
      ]
     },
     "execution_count": 17,
     "metadata": {},
     "output_type": "execute_result"
    }
   ],
   "source": [
    "first=[2,34,5,[56,81,[43,89],67],10]\n",
    "# extract [43,89]\n",
    "\n",
    "first[3][2]"
   ]
  },
  {
   "cell_type": "code",
   "execution_count": 18,
   "id": "1b7ffbba",
   "metadata": {},
   "outputs": [
    {
     "data": {
      "text/plain": [
       "89"
      ]
     },
     "execution_count": 18,
     "metadata": {},
     "output_type": "execute_result"
    }
   ],
   "source": [
    "# extract 89\n",
    "first[3][2][1]"
   ]
  },
  {
   "cell_type": "code",
   "execution_count": 19,
   "id": "dd9122e1",
   "metadata": {},
   "outputs": [
    {
     "name": "stdout",
     "output_type": "stream",
     "text": [
      "['__add__', '__class__', '__class_getitem__', '__contains__', '__delattr__', '__delitem__', '__dir__', '__doc__', '__eq__', '__format__', '__ge__', '__getattribute__', '__getitem__', '__gt__', '__hash__', '__iadd__', '__imul__', '__init__', '__init_subclass__', '__iter__', '__le__', '__len__', '__lt__', '__mul__', '__ne__', '__new__', '__reduce__', '__reduce_ex__', '__repr__', '__reversed__', '__rmul__', '__setattr__', '__setitem__', '__sizeof__', '__str__', '__subclasshook__', 'append', 'clear', 'copy', 'count', 'extend', 'index', 'insert', 'pop', 'remove', 'reverse', 'sort']\n"
     ]
    }
   ],
   "source": [
    "print(dir(first))"
   ]
  },
  {
   "cell_type": "code",
   "execution_count": 20,
   "id": "e10665e6",
   "metadata": {},
   "outputs": [
    {
     "data": {
      "text/plain": [
       "[1, 2, 3, 5, 6]"
      ]
     },
     "execution_count": 20,
     "metadata": {},
     "output_type": "execute_result"
    }
   ],
   "source": [
    "#extend\n",
    "newlist1=[1,2,3]\n",
    "newlist2=[5,6]\n",
    "newlist1.extend(newlist2)\n",
    "newlist1"
   ]
  },
  {
   "cell_type": "code",
   "execution_count": 22,
   "id": "14698a94",
   "metadata": {},
   "outputs": [
    {
     "data": {
      "text/plain": [
       "[6, 7, 8, [9, 10]]"
      ]
     },
     "execution_count": 22,
     "metadata": {},
     "output_type": "execute_result"
    }
   ],
   "source": [
    "# append\n",
    "newlist3=[6,7,8]\n",
    "newlist4=[9,10]\n",
    "newlist3.append(newlist4)\n",
    "newlist3"
   ]
  },
  {
   "cell_type": "code",
   "execution_count": 23,
   "id": "27788664",
   "metadata": {},
   "outputs": [
    {
     "data": {
      "text/plain": [
       "[6, 7, 8, [9, 10], 9, 10]"
      ]
     },
     "execution_count": 23,
     "metadata": {},
     "output_type": "execute_result"
    }
   ],
   "source": [
    "newlist3+newlist4"
   ]
  },
  {
   "cell_type": "code",
   "execution_count": 24,
   "id": "c878f8a4",
   "metadata": {},
   "outputs": [
    {
     "data": {
      "text/plain": [
       "[8, 9, 10]"
      ]
     },
     "execution_count": 24,
     "metadata": {},
     "output_type": "execute_result"
    }
   ],
   "source": [
    "# insert\n",
    "#syntax: listobject.insert(index,value)\n",
    "newlist4.insert(0,8)\n",
    "newlist4"
   ]
  },
  {
   "cell_type": "code",
   "execution_count": 25,
   "id": "2911d35c",
   "metadata": {},
   "outputs": [
    {
     "data": {
      "text/plain": [
       "[8, 9, 12, 10]"
      ]
     },
     "execution_count": 25,
     "metadata": {},
     "output_type": "execute_result"
    }
   ],
   "source": [
    "newlist4.insert(2,12)\n",
    "newlist4"
   ]
  },
  {
   "cell_type": "code",
   "execution_count": null,
   "id": "180dd055",
   "metadata": {},
   "outputs": [],
   "source": [
    "#pop\n",
    "# listobject.pop(index) \n",
    "# list object.pop()--> removes last element in the list"
   ]
  },
  {
   "cell_type": "code",
   "execution_count": 26,
   "id": "e71bd95a",
   "metadata": {},
   "outputs": [
    {
     "data": {
      "text/plain": [
       "10"
      ]
     },
     "execution_count": 26,
     "metadata": {},
     "output_type": "execute_result"
    }
   ],
   "source": [
    "newlist4.pop()"
   ]
  },
  {
   "cell_type": "code",
   "execution_count": 27,
   "id": "e6eb011c",
   "metadata": {},
   "outputs": [
    {
     "data": {
      "text/plain": [
       "[8, 9, 12]"
      ]
     },
     "execution_count": 27,
     "metadata": {},
     "output_type": "execute_result"
    }
   ],
   "source": [
    "newlist4"
   ]
  },
  {
   "cell_type": "code",
   "execution_count": 29,
   "id": "789318c4",
   "metadata": {},
   "outputs": [
    {
     "data": {
      "text/plain": [
       "12"
      ]
     },
     "execution_count": 29,
     "metadata": {},
     "output_type": "execute_result"
    }
   ],
   "source": [
    "newlist4.pop(2)"
   ]
  },
  {
   "cell_type": "code",
   "execution_count": 30,
   "id": "4f20af7f",
   "metadata": {},
   "outputs": [
    {
     "data": {
      "text/plain": [
       "[8, 9]"
      ]
     },
     "execution_count": 30,
     "metadata": {},
     "output_type": "execute_result"
    }
   ],
   "source": [
    "newlist4"
   ]
  },
  {
   "cell_type": "code",
   "execution_count": 32,
   "id": "061feb1f",
   "metadata": {},
   "outputs": [],
   "source": [
    "## remove \n",
    "# syntax: listobject.remove(value)\n",
    "list_1=[1,2,'hi','wel',8]"
   ]
  },
  {
   "cell_type": "code",
   "execution_count": 33,
   "id": "a3b90c02",
   "metadata": {},
   "outputs": [
    {
     "data": {
      "text/plain": [
       "[1, 2, 'wel', 8]"
      ]
     },
     "execution_count": 33,
     "metadata": {},
     "output_type": "execute_result"
    }
   ],
   "source": [
    "list_1.remove('hi')\n",
    "list_1"
   ]
  },
  {
   "cell_type": "code",
   "execution_count": null,
   "id": "15455797",
   "metadata": {},
   "outputs": [],
   "source": []
  },
  {
   "cell_type": "code",
   "execution_count": 45,
   "id": "272e4cc4",
   "metadata": {},
   "outputs": [],
   "source": [
    "first=[2,34,5,[56,81,[43,89],67],10,59,57]"
   ]
  },
  {
   "cell_type": "code",
   "execution_count": 36,
   "id": "08d293f4",
   "metadata": {},
   "outputs": [
    {
     "ename": "ValueError",
     "evalue": "list.remove(x): x not in list",
     "output_type": "error",
     "traceback": [
      "\u001b[1;31m---------------------------------------------------------------------------\u001b[0m",
      "\u001b[1;31mValueError\u001b[0m                                Traceback (most recent call last)",
      "\u001b[1;32m~\\AppData\\Local\\Temp/ipykernel_16964/79559470.py\u001b[0m in \u001b[0;36m<module>\u001b[1;34m\u001b[0m\n\u001b[1;32m----> 1\u001b[1;33m \u001b[0mfirst\u001b[0m\u001b[1;33m.\u001b[0m\u001b[0mremove\u001b[0m\u001b[1;33m(\u001b[0m\u001b[1;36m81\u001b[0m\u001b[1;33m)\u001b[0m\u001b[1;33m\u001b[0m\u001b[1;33m\u001b[0m\u001b[0m\n\u001b[0m",
      "\u001b[1;31mValueError\u001b[0m: list.remove(x): x not in list"
     ]
    }
   ],
   "source": [
    "first.remove(81)"
   ]
  },
  {
   "cell_type": "code",
   "execution_count": 37,
   "id": "38efeb06",
   "metadata": {},
   "outputs": [],
   "source": [
    "#del\n",
    "#remove elements from the list : remove 81\n",
    "del(first[3][1])"
   ]
  },
  {
   "cell_type": "code",
   "execution_count": 38,
   "id": "f3016c56",
   "metadata": {},
   "outputs": [
    {
     "data": {
      "text/plain": [
       "[2, 34, 5, [56, [43, 89], 67], 10, 59, 57]"
      ]
     },
     "execution_count": 38,
     "metadata": {},
     "output_type": "execute_result"
    }
   ],
   "source": [
    "first"
   ]
  },
  {
   "cell_type": "code",
   "execution_count": 39,
   "id": "9172b1eb",
   "metadata": {},
   "outputs": [
    {
     "data": {
      "text/plain": [
       "[2, 34, 5, [56, [89], 67], 10, 59, 57]"
      ]
     },
     "execution_count": 39,
     "metadata": {},
     "output_type": "execute_result"
    }
   ],
   "source": [
    "# remove 43\n",
    "del(first[3][1][0])\n",
    "first"
   ]
  },
  {
   "cell_type": "code",
   "execution_count": 47,
   "id": "7a63652c",
   "metadata": {},
   "outputs": [
    {
     "data": {
      "text/plain": [
       "[2, 5, [56, 81, [43, 89], 67], 10, 59, 57]"
      ]
     },
     "execution_count": 47,
     "metadata": {},
     "output_type": "execute_result"
    }
   ],
   "source": [
    "del(first[1:2])\n",
    "first"
   ]
  },
  {
   "cell_type": "code",
   "execution_count": 49,
   "id": "81b8a346",
   "metadata": {},
   "outputs": [
    {
     "data": {
      "text/plain": [
       "[2, 56, [[89], 67], 10, 59, 57]"
      ]
     },
     "execution_count": 49,
     "metadata": {},
     "output_type": "execute_result"
    }
   ],
   "source": [
    "# remove the values 34 & 5.\n",
    "first1= [2, 34, 5, 56,[[89], 67], 10, 59, 57]\n",
    "del(first1[1:3])\n",
    "first1"
   ]
  },
  {
   "cell_type": "code",
   "execution_count": null,
   "id": "a57bcb43",
   "metadata": {},
   "outputs": [],
   "source": [
    "# remove the values 2 and 10 (first1)"
   ]
  },
  {
   "cell_type": "code",
   "execution_count": 53,
   "id": "f3701490",
   "metadata": {},
   "outputs": [
    {
     "ename": "IndexError",
     "evalue": "list assignment index out of range",
     "output_type": "error",
     "traceback": [
      "\u001b[1;31m---------------------------------------------------------------------------\u001b[0m",
      "\u001b[1;31mIndexError\u001b[0m                                Traceback (most recent call last)",
      "\u001b[1;32m~\\AppData\\Local\\Temp/ipykernel_16964/929538915.py\u001b[0m in \u001b[0;36m<module>\u001b[1;34m\u001b[0m\n\u001b[1;32m----> 1\u001b[1;33m \u001b[1;32mdel\u001b[0m\u001b[1;33m(\u001b[0m\u001b[0mfirst\u001b[0m\u001b[1;33m[\u001b[0m\u001b[1;36m0\u001b[0m\u001b[1;33m]\u001b[0m\u001b[1;33m,\u001b[0m\u001b[0mfirst\u001b[0m\u001b[1;33m[\u001b[0m\u001b[1;36m3\u001b[0m\u001b[1;33m]\u001b[0m\u001b[1;33m)\u001b[0m\u001b[1;33m\u001b[0m\u001b[1;33m\u001b[0m\u001b[0m\n\u001b[0m\u001b[0;32m      2\u001b[0m \u001b[0mfirst\u001b[0m\u001b[1;33m\u001b[0m\u001b[1;33m\u001b[0m\u001b[0m\n",
      "\u001b[1;31mIndexError\u001b[0m: list assignment index out of range"
     ]
    }
   ],
   "source": [
    "del(first[0],first[3])"
   ]
  },
  {
   "cell_type": "code",
   "execution_count": 54,
   "id": "2e5cb17d",
   "metadata": {},
   "outputs": [
    {
     "data": {
      "text/plain": [
       "[[56, 81, [43, 89], 67], 10, 57]"
      ]
     },
     "execution_count": 54,
     "metadata": {},
     "output_type": "execute_result"
    }
   ],
   "source": [
    "first"
   ]
  },
  {
   "cell_type": "code",
   "execution_count": 55,
   "id": "08b87b53",
   "metadata": {},
   "outputs": [],
   "source": [
    "# reverse\n",
    "# syntax: list object.reverse()\n",
    "list1 = [1, 2, 3, 4, 1, 2, 6]\n",
    "list1.reverse()"
   ]
  },
  {
   "cell_type": "code",
   "execution_count": 56,
   "id": "5545b321",
   "metadata": {},
   "outputs": [
    {
     "data": {
      "text/plain": [
       "[6, 2, 1, 4, 3, 2, 1]"
      ]
     },
     "execution_count": 56,
     "metadata": {},
     "output_type": "execute_result"
    }
   ],
   "source": [
    "list1"
   ]
  },
  {
   "cell_type": "code",
   "execution_count": 57,
   "id": "900b4ded",
   "metadata": {},
   "outputs": [
    {
     "data": {
      "text/plain": [
       "3"
      ]
     },
     "execution_count": 57,
     "metadata": {},
     "output_type": "execute_result"
    }
   ],
   "source": [
    "#index\n",
    "# returns the index of the element\n",
    "# list object.index(value)\n",
    "list1.index(4)"
   ]
  },
  {
   "cell_type": "code",
   "execution_count": 58,
   "id": "513faa70",
   "metadata": {},
   "outputs": [],
   "source": [
    "### Apply + * on list objects\n",
    "ls1=[12,23,12,45]\n",
    "ls2=[34,6,7,8]"
   ]
  },
  {
   "cell_type": "code",
   "execution_count": 59,
   "id": "eb4f0435",
   "metadata": {},
   "outputs": [
    {
     "data": {
      "text/plain": [
       "[12, 23, 12, 45, 34, 6, 7, 8]"
      ]
     },
     "execution_count": 59,
     "metadata": {},
     "output_type": "execute_result"
    }
   ],
   "source": [
    "ls1+ls2"
   ]
  },
  {
   "cell_type": "code",
   "execution_count": 60,
   "id": "0d037364",
   "metadata": {},
   "outputs": [
    {
     "data": {
      "text/plain": [
       "[12, 23, 12, 45, 12, 23, 12, 45, 12, 23, 12, 45]"
      ]
     },
     "execution_count": 60,
     "metadata": {},
     "output_type": "execute_result"
    }
   ],
   "source": [
    "ls1*3"
   ]
  },
  {
   "cell_type": "code",
   "execution_count": 61,
   "id": "c4f15fc3",
   "metadata": {},
   "outputs": [],
   "source": [
    "# sort the list object in ascending order\n",
    "ls6=[12,4,78,2,9,54]"
   ]
  },
  {
   "cell_type": "code",
   "execution_count": 62,
   "id": "184d7bd4",
   "metadata": {},
   "outputs": [
    {
     "data": {
      "text/plain": [
       "[2, 4, 9, 12, 54, 78]"
      ]
     },
     "execution_count": 62,
     "metadata": {},
     "output_type": "execute_result"
    }
   ],
   "source": [
    "# sorted() function\n",
    "sorted(ls6)"
   ]
  },
  {
   "cell_type": "code",
   "execution_count": 63,
   "id": "09927a0a",
   "metadata": {},
   "outputs": [
    {
     "data": {
      "text/plain": [
       "[12, 4, 78, 2, 9, 54]"
      ]
     },
     "execution_count": 63,
     "metadata": {},
     "output_type": "execute_result"
    }
   ],
   "source": [
    "ls6"
   ]
  },
  {
   "cell_type": "code",
   "execution_count": 64,
   "id": "8cb27675",
   "metadata": {},
   "outputs": [],
   "source": [
    "# sort() method\n",
    "ls6.sort()"
   ]
  },
  {
   "cell_type": "code",
   "execution_count": 65,
   "id": "e797fb3d",
   "metadata": {},
   "outputs": [
    {
     "data": {
      "text/plain": [
       "[2, 4, 9, 12, 54, 78]"
      ]
     },
     "execution_count": 65,
     "metadata": {},
     "output_type": "execute_result"
    }
   ],
   "source": [
    "ls6"
   ]
  },
  {
   "cell_type": "code",
   "execution_count": 66,
   "id": "3a4702cb",
   "metadata": {},
   "outputs": [
    {
     "data": {
      "text/plain": [
       "[78, 54, 12, 9, 4, 2]"
      ]
     },
     "execution_count": 66,
     "metadata": {},
     "output_type": "execute_result"
    }
   ],
   "source": [
    "#descending order\n",
    "sorted(ls6,reverse=True)\n",
    "# ls6.sort(reverse=True)"
   ]
  },
  {
   "cell_type": "code",
   "execution_count": 67,
   "id": "85ba673d",
   "metadata": {},
   "outputs": [],
   "source": [
    "# Copy one list from the other list (or) creating a list from existing list by using '=' (or) copy() method\n",
    "ls9=[1,2,5,2,1,3,2,10]\n",
    "#create newlist from ls9."
   ]
  },
  {
   "cell_type": "code",
   "execution_count": 68,
   "id": "620f4371",
   "metadata": {},
   "outputs": [
    {
     "name": "stdout",
     "output_type": "stream",
     "text": [
      "[1, 2, 5, 2, 1, 3, 2, 10]\n",
      "[1, 2, 5, 2, 1, 3, 2, 10]\n",
      "[1, 2, 5, 2, 1, 3, 2, 10]\n"
     ]
    }
   ],
   "source": [
    "ls10=ls9\n",
    "ls11=ls9.copy()\n",
    "print(ls9)\n",
    "print(ls10)\n",
    "print(ls11)"
   ]
  },
  {
   "cell_type": "code",
   "execution_count": 69,
   "id": "77440f90",
   "metadata": {},
   "outputs": [
    {
     "name": "stdout",
     "output_type": "stream",
     "text": [
      "[1, 30, 5, 2, 1, 3, 2, 10]\n",
      "[1, 30, 5, 2, 1, 3, 2, 10]\n",
      "[1, 2, 5, 2, 1, 3, 2, 10]\n"
     ]
    }
   ],
   "source": [
    "# do changes on original list ls9\n",
    "ls9[1]=30\n",
    "print(ls9)\n",
    "print(ls10)\n",
    "print(ls11)"
   ]
  },
  {
   "cell_type": "code",
   "execution_count": 70,
   "id": "f0af2028",
   "metadata": {},
   "outputs": [
    {
     "data": {
      "text/plain": [
       "['12', '08', '2022']"
      ]
     },
     "execution_count": 70,
     "metadata": {},
     "output_type": "execute_result"
    }
   ],
   "source": [
    "#split method\n",
    "dt='12-08-2022'\n",
    "dt.split('-')"
   ]
  },
  {
   "cell_type": "code",
   "execution_count": 71,
   "id": "2de11eb6",
   "metadata": {},
   "outputs": [
    {
     "name": "stdout",
     "output_type": "stream",
     "text": [
      "1\n",
      "2\n",
      "5\n",
      "2\n",
      "1\n",
      "3\n",
      "2\n",
      "10\n"
     ]
    }
   ],
   "source": [
    "# loop\n",
    "for i in ls11:\n",
    "    print(i)"
   ]
  },
  {
   "cell_type": "code",
   "execution_count": null,
   "id": "081bc98d",
   "metadata": {},
   "outputs": [],
   "source": [
    "#List comprehension\n",
    "# one line expression of for loop"
   ]
  },
  {
   "cell_type": "code",
   "execution_count": 72,
   "id": "11ebb6fb",
   "metadata": {},
   "outputs": [
    {
     "name": "stdout",
     "output_type": "stream",
     "text": [
      "[1, 4, 9, 16]\n"
     ]
    }
   ],
   "source": [
    "a=[1,2,3,4]\n",
    "#list of square of elements of a\n",
    "#for loop\n",
    "b=[]\n",
    "for i in a:\n",
    "    b.append(i**2)\n",
    "print(b)"
   ]
  },
  {
   "cell_type": "code",
   "execution_count": 73,
   "id": "b41d298d",
   "metadata": {},
   "outputs": [
    {
     "data": {
      "text/plain": [
       "[1, 4, 9, 16]"
      ]
     },
     "execution_count": 73,
     "metadata": {},
     "output_type": "execute_result"
    }
   ],
   "source": [
    "#list comprehension : syntax: [expression for if]\n",
    "[i**2 for i in a]"
   ]
  },
  {
   "cell_type": "code",
   "execution_count": 74,
   "id": "7902a055",
   "metadata": {},
   "outputs": [
    {
     "data": {
      "text/plain": [
       "['Chennai', 'Bangalore']"
      ]
     },
     "execution_count": 74,
     "metadata": {},
     "output_type": "execute_result"
    }
   ],
   "source": [
    "cities=['Delhi','Pune','Chennai','Bangalore','Hyd']\n",
    "# create a list of elements which has length is greater than 6.\n",
    "[i for i in cities if len(i)>6]"
   ]
  },
  {
   "cell_type": "code",
   "execution_count": 75,
   "id": "587102a5",
   "metadata": {},
   "outputs": [
    {
     "data": {
      "text/plain": [
       "[9, 12, 13, 14]"
      ]
     },
     "execution_count": 75,
     "metadata": {},
     "output_type": "execute_result"
    }
   ],
   "source": [
    "L=[4,7,8,9]\n",
    "# Add value 5 to each element in the list\n",
    "[i+5 for i in L]"
   ]
  },
  {
   "cell_type": "code",
   "execution_count": 76,
   "id": "74134009",
   "metadata": {},
   "outputs": [
    {
     "data": {
      "text/plain": [
       "[7, 8, 9]"
      ]
     },
     "execution_count": 76,
     "metadata": {},
     "output_type": "execute_result"
    }
   ],
   "source": [
    "# Create a list of elements which is greater than 5 in the given list L\n",
    "[i for i in L if i>5]"
   ]
  },
  {
   "cell_type": "code",
   "execution_count": 77,
   "id": "c1a94998",
   "metadata": {},
   "outputs": [],
   "source": [
    "# Addition of two lists L1 and L2 (adding elements in the lists)\n",
    "L1=[3,4,5,6]\n",
    "L2=[1,3,5,8]"
   ]
  },
  {
   "cell_type": "code",
   "execution_count": 78,
   "id": "04ed4b7f",
   "metadata": {},
   "outputs": [
    {
     "name": "stdout",
     "output_type": "stream",
     "text": [
      "[4, 7, 10, 14]\n"
     ]
    }
   ],
   "source": [
    "# for loop\n",
    "n=[]\n",
    "for x in range(0,len(L1)):\n",
    "    n.append(L1[x]+L2[x])\n",
    "print(n)"
   ]
  },
  {
   "cell_type": "code",
   "execution_count": 79,
   "id": "3517c28c",
   "metadata": {},
   "outputs": [
    {
     "data": {
      "text/plain": [
       "[4, 7, 10, 14]"
      ]
     },
     "execution_count": 79,
     "metadata": {},
     "output_type": "execute_result"
    }
   ],
   "source": [
    "[L1[x]+L2[x] for x in range(len(L1))]"
   ]
  },
  {
   "cell_type": "markdown",
   "id": "68ce9949",
   "metadata": {},
   "source": [
    "### Tuple\n",
    "\n",
    "- A tuple is a sequence of items\n",
    "- tuple is created by using () or tuple()\n",
    "- tuple contains mixed data type\n",
    "- tuples are immutable\n",
    "- tuples are iterable"
   ]
  },
  {
   "cell_type": "code",
   "execution_count": 80,
   "id": "79692679",
   "metadata": {},
   "outputs": [],
   "source": [
    "# empty tuple object\n",
    "tuple1=()\n",
    "#tuple1=tuple()"
   ]
  },
  {
   "cell_type": "code",
   "execution_count": 81,
   "id": "01c38572",
   "metadata": {},
   "outputs": [
    {
     "data": {
      "text/plain": [
       "tuple"
      ]
     },
     "execution_count": 81,
     "metadata": {},
     "output_type": "execute_result"
    }
   ],
   "source": [
    "type(tuple1)"
   ]
  },
  {
   "cell_type": "code",
   "execution_count": 82,
   "id": "53f28503",
   "metadata": {},
   "outputs": [
    {
     "data": {
      "text/plain": [
       "(1, 'hi', True)"
      ]
     },
     "execution_count": 82,
     "metadata": {},
     "output_type": "execute_result"
    }
   ],
   "source": [
    "# create a tuple with elements\n",
    "t1=(1,'hi',True)\n",
    "t1"
   ]
  },
  {
   "cell_type": "code",
   "execution_count": 83,
   "id": "fe19c1eb",
   "metadata": {},
   "outputs": [
    {
     "data": {
      "text/plain": [
       "4"
      ]
     },
     "execution_count": 83,
     "metadata": {},
     "output_type": "execute_result"
    }
   ],
   "source": [
    "# extract '4' from t3\n",
    "t3=(23,4,'e','i')\n",
    "t3[1]"
   ]
  },
  {
   "cell_type": "code",
   "execution_count": 84,
   "id": "b5ffc49f",
   "metadata": {},
   "outputs": [
    {
     "ename": "TypeError",
     "evalue": "'tuple' object does not support item assignment",
     "output_type": "error",
     "traceback": [
      "\u001b[1;31m---------------------------------------------------------------------------\u001b[0m",
      "\u001b[1;31mTypeError\u001b[0m                                 Traceback (most recent call last)",
      "\u001b[1;32m~\\AppData\\Local\\Temp/ipykernel_16964/2749187968.py\u001b[0m in \u001b[0;36m<module>\u001b[1;34m\u001b[0m\n\u001b[0;32m      1\u001b[0m \u001b[1;31m# immutable\u001b[0m\u001b[1;33m\u001b[0m\u001b[1;33m\u001b[0m\u001b[0m\n\u001b[1;32m----> 2\u001b[1;33m \u001b[0mt3\u001b[0m\u001b[1;33m[\u001b[0m\u001b[1;36m0\u001b[0m\u001b[1;33m]\u001b[0m\u001b[1;33m=\u001b[0m\u001b[1;36m34\u001b[0m\u001b[1;33m\u001b[0m\u001b[1;33m\u001b[0m\u001b[0m\n\u001b[0m",
      "\u001b[1;31mTypeError\u001b[0m: 'tuple' object does not support item assignment"
     ]
    }
   ],
   "source": [
    "# immutable\n",
    "t3[0]=34"
   ]
  },
  {
   "cell_type": "code",
   "execution_count": 85,
   "id": "ed17f488",
   "metadata": {},
   "outputs": [
    {
     "data": {
      "text/plain": [
       "list"
      ]
     },
     "execution_count": 85,
     "metadata": {},
     "output_type": "execute_result"
    }
   ],
   "source": [
    "# convert tuple object into list object\n",
    "t3=list(t3)\n",
    "type(t3)"
   ]
  },
  {
   "cell_type": "code",
   "execution_count": 86,
   "id": "0f8d08ab",
   "metadata": {},
   "outputs": [],
   "source": [
    "t3[0]=34"
   ]
  },
  {
   "cell_type": "code",
   "execution_count": 87,
   "id": "442a9307",
   "metadata": {},
   "outputs": [
    {
     "data": {
      "text/plain": [
       "tuple"
      ]
     },
     "execution_count": 87,
     "metadata": {},
     "output_type": "execute_result"
    }
   ],
   "source": [
    "t3=tuple(t3)\n",
    "type(t3)"
   ]
  },
  {
   "cell_type": "code",
   "execution_count": 88,
   "id": "8a1c8163",
   "metadata": {},
   "outputs": [
    {
     "data": {
      "text/plain": [
       "(34, 4, 'e', 'i')"
      ]
     },
     "execution_count": 88,
     "metadata": {},
     "output_type": "execute_result"
    }
   ],
   "source": [
    "t3"
   ]
  },
  {
   "cell_type": "code",
   "execution_count": 89,
   "id": "4e887619",
   "metadata": {},
   "outputs": [
    {
     "name": "stdout",
     "output_type": "stream",
     "text": [
      "34\n",
      "4\n",
      "e\n",
      "i\n"
     ]
    }
   ],
   "source": [
    "#for loop\n",
    "for x in t3:\n",
    "    print(x)"
   ]
  },
  {
   "cell_type": "code",
   "execution_count": 90,
   "id": "6379e981",
   "metadata": {},
   "outputs": [
    {
     "name": "stdout",
     "output_type": "stream",
     "text": [
      "['__add__', '__class__', '__class_getitem__', '__contains__', '__delattr__', '__dir__', '__doc__', '__eq__', '__format__', '__ge__', '__getattribute__', '__getitem__', '__getnewargs__', '__gt__', '__hash__', '__init__', '__init_subclass__', '__iter__', '__le__', '__len__', '__lt__', '__mul__', '__ne__', '__new__', '__reduce__', '__reduce_ex__', '__repr__', '__rmul__', '__setattr__', '__sizeof__', '__str__', '__subclasshook__', 'count', 'index']\n"
     ]
    }
   ],
   "source": [
    "print(dir(t3))"
   ]
  },
  {
   "cell_type": "code",
   "execution_count": null,
   "id": "5e523e9d",
   "metadata": {},
   "outputs": [],
   "source": [
    "### Dictionary\n",
    "- A collection of unordered set of key:value pairs.\n",
    "\n",
    "- Create dictionaries by using {} or dict()\n",
    "\n",
    "- Keys are unique.\n",
    "\n",
    "- values are accessed by using keys, not by index\n",
    "\n",
    "- Dictionaries are mutable.\n",
    "\n",
    "- Dicitonaries are iterables."
   ]
  },
  {
   "cell_type": "code",
   "execution_count": 91,
   "id": "943bd3dc",
   "metadata": {},
   "outputs": [],
   "source": [
    "# empty dict:\n",
    "#d={}\n",
    "d=dict()"
   ]
  },
  {
   "cell_type": "code",
   "execution_count": 92,
   "id": "4501ec02",
   "metadata": {},
   "outputs": [
    {
     "data": {
      "text/plain": [
       "dict"
      ]
     },
     "execution_count": 92,
     "metadata": {},
     "output_type": "execute_result"
    }
   ],
   "source": [
    "type(d)"
   ]
  },
  {
   "cell_type": "code",
   "execution_count": 93,
   "id": "9e6efeb8",
   "metadata": {},
   "outputs": [
    {
     "data": {
      "text/plain": [
       "{'one': 1, 'two': 2, 'three': 3}"
      ]
     },
     "execution_count": 93,
     "metadata": {},
     "output_type": "execute_result"
    }
   ],
   "source": [
    "# create dict of integer values\n",
    "d1={'one':1,'two':2,'three':3}\n",
    "d1"
   ]
  },
  {
   "cell_type": "code",
   "execution_count": 96,
   "id": "49b3a49d",
   "metadata": {},
   "outputs": [
    {
     "data": {
      "text/plain": [
       "{32: 'hi', 'next': 'rrr'}"
      ]
     },
     "execution_count": 96,
     "metadata": {},
     "output_type": "execute_result"
    }
   ],
   "source": [
    "# create  dict of strings values\n",
    "d2={32:'hi','next':'rrr'}\n",
    "d2"
   ]
  },
  {
   "cell_type": "code",
   "execution_count": null,
   "id": "bf07a54c",
   "metadata": {},
   "outputs": [],
   "source": [
    "# create dict of mixed data types"
   ]
  },
  {
   "cell_type": "code",
   "execution_count": 97,
   "id": "c125613b",
   "metadata": {},
   "outputs": [
    {
     "data": {
      "text/plain": [
       "{'new': 34, 'new1': 'hi', 'new2': (1, 2, 3)}"
      ]
     },
     "execution_count": 97,
     "metadata": {},
     "output_type": "execute_result"
    }
   ],
   "source": [
    "d3={'new':34,'new1':'hi','new2':(1,2,3)}\n",
    "d3"
   ]
  },
  {
   "cell_type": "code",
   "execution_count": 99,
   "id": "91f84416",
   "metadata": {},
   "outputs": [
    {
     "name": "stdout",
     "output_type": "stream",
     "text": [
      "['__class__', '__class_getitem__', '__contains__', '__delattr__', '__delitem__', '__dir__', '__doc__', '__eq__', '__format__', '__ge__', '__getattribute__', '__getitem__', '__gt__', '__hash__', '__init__', '__init_subclass__', '__ior__', '__iter__', '__le__', '__len__', '__lt__', '__ne__', '__new__', '__or__', '__reduce__', '__reduce_ex__', '__repr__', '__reversed__', '__ror__', '__setattr__', '__setitem__', '__sizeof__', '__str__', '__subclasshook__', 'clear', 'copy', 'fromkeys', 'get', 'items', 'keys', 'pop', 'popitem', 'setdefault', 'update', 'values']\n"
     ]
    }
   ],
   "source": [
    "print(dir(d3))"
   ]
  },
  {
   "cell_type": "code",
   "execution_count": 98,
   "id": "9bb8ac28",
   "metadata": {},
   "outputs": [
    {
     "data": {
      "text/plain": [
       "dict_keys(['new', 'new1', 'new2'])"
      ]
     },
     "execution_count": 98,
     "metadata": {},
     "output_type": "execute_result"
    }
   ],
   "source": [
    "d3.keys()"
   ]
  },
  {
   "cell_type": "code",
   "execution_count": 100,
   "id": "4e58a937",
   "metadata": {},
   "outputs": [
    {
     "data": {
      "text/plain": [
       "dict_values([34, 'hi', (1, 2, 3)])"
      ]
     },
     "execution_count": 100,
     "metadata": {},
     "output_type": "execute_result"
    }
   ],
   "source": [
    "d3.values()"
   ]
  },
  {
   "cell_type": "code",
   "execution_count": 101,
   "id": "afec7e0b",
   "metadata": {},
   "outputs": [
    {
     "data": {
      "text/plain": [
       "dict_items([('new', 34), ('new1', 'hi'), ('new2', (1, 2, 3))])"
      ]
     },
     "execution_count": 101,
     "metadata": {},
     "output_type": "execute_result"
    }
   ],
   "source": [
    "d3.items()"
   ]
  },
  {
   "cell_type": "code",
   "execution_count": 103,
   "id": "7226655e",
   "metadata": {},
   "outputs": [
    {
     "data": {
      "text/plain": [
       "[5, 6, 7]"
      ]
     },
     "execution_count": 103,
     "metadata": {},
     "output_type": "execute_result"
    }
   ],
   "source": [
    "d4={'first':[5,6,7],'second':[\"a\",\"b\"],'third':(7,8,0),'fourth':\"hello\"}\n",
    "#extract [5,6,7] from d4.\n",
    "d4['first']"
   ]
  },
  {
   "cell_type": "code",
   "execution_count": 104,
   "id": "ad4f8fef",
   "metadata": {},
   "outputs": [
    {
     "data": {
      "text/plain": [
       "(7, 8, 0)"
      ]
     },
     "execution_count": 104,
     "metadata": {},
     "output_type": "execute_result"
    }
   ],
   "source": [
    "d4['third']"
   ]
  },
  {
   "cell_type": "code",
   "execution_count": 105,
   "id": "712417d1",
   "metadata": {},
   "outputs": [
    {
     "data": {
      "text/plain": [
       "6"
      ]
     },
     "execution_count": 105,
     "metadata": {},
     "output_type": "execute_result"
    }
   ],
   "source": [
    "#extract 6\n",
    "d4['first'][1]"
   ]
  },
  {
   "cell_type": "code",
   "execution_count": 106,
   "id": "45b22e8c",
   "metadata": {},
   "outputs": [
    {
     "data": {
      "text/plain": [
       "'b'"
      ]
     },
     "execution_count": 106,
     "metadata": {},
     "output_type": "execute_result"
    }
   ],
   "source": [
    "#extract 'b'\n",
    "d4['second'][1]"
   ]
  },
  {
   "cell_type": "code",
   "execution_count": 110,
   "id": "4f754e21",
   "metadata": {},
   "outputs": [
    {
     "data": {
      "text/plain": [
       "'z'"
      ]
     },
     "execution_count": 110,
     "metadata": {},
     "output_type": "execute_result"
    }
   ],
   "source": [
    "d5={'one':{'el_one':[3,4,6,{'el_two':'z'}]}}\n",
    "# extract 'z'\n",
    "d5['one']['el_one'][3]['el_two']"
   ]
  },
  {
   "cell_type": "code",
   "execution_count": 131,
   "id": "46e055bb",
   "metadata": {},
   "outputs": [
    {
     "data": {
      "text/plain": [
       "'merge'"
      ]
     },
     "execution_count": 131,
     "metadata": {},
     "output_type": "execute_result"
    }
   ],
   "source": [
    "d6={'new':[9,4,5,['split','merge',10]],'old':('s',17,0),'mid':{'ram':4,'ravi':8}}\n",
    "#Extract 'merge'\n",
    "#extract 8\n",
    "d6['new'][3][1]"
   ]
  },
  {
   "cell_type": "code",
   "execution_count": 115,
   "id": "b2f4db13",
   "metadata": {},
   "outputs": [
    {
     "data": {
      "text/plain": [
       "8"
      ]
     },
     "execution_count": 115,
     "metadata": {},
     "output_type": "execute_result"
    }
   ],
   "source": [
    "#extract 8\n",
    "d6['mid']['ravi']"
   ]
  },
  {
   "cell_type": "code",
   "execution_count": 117,
   "id": "bb456050",
   "metadata": {},
   "outputs": [
    {
     "name": "stdout",
     "output_type": "stream",
     "text": [
      "[9, 4, 5, ['split', 'merge', 10]]\n",
      "('s', 17, 0)\n",
      "{'ram': 4, 'ravi': 8}\n"
     ]
    }
   ],
   "source": [
    "# for loop\n",
    "for i in d6:\n",
    "    print(d6[i])"
   ]
  },
  {
   "cell_type": "code",
   "execution_count": 119,
   "id": "957948fa",
   "metadata": {},
   "outputs": [
    {
     "data": {
      "text/plain": [
       "{'new': [10, 4, 5, ['split', 'merge', 10]],\n",
       " 'old': ('s', 17, 0),\n",
       " 'mid': {'ram': 4, 'ravi': 8}}"
      ]
     },
     "execution_count": 119,
     "metadata": {},
     "output_type": "execute_result"
    }
   ],
   "source": [
    "#mutable\n",
    "d6['new'][0]=10\n",
    "d6"
   ]
  },
  {
   "cell_type": "code",
   "execution_count": 120,
   "id": "b4f15ea0",
   "metadata": {},
   "outputs": [
    {
     "name": "stdout",
     "output_type": "stream",
     "text": [
      "['__class__', '__class_getitem__', '__contains__', '__delattr__', '__delitem__', '__dir__', '__doc__', '__eq__', '__format__', '__ge__', '__getattribute__', '__getitem__', '__gt__', '__hash__', '__init__', '__init_subclass__', '__ior__', '__iter__', '__le__', '__len__', '__lt__', '__ne__', '__new__', '__or__', '__reduce__', '__reduce_ex__', '__repr__', '__reversed__', '__ror__', '__setattr__', '__setitem__', '__sizeof__', '__str__', '__subclasshook__', 'clear', 'copy', 'fromkeys', 'get', 'items', 'keys', 'pop', 'popitem', 'setdefault', 'update', 'values']\n"
     ]
    }
   ],
   "source": [
    "print(dir(d6))"
   ]
  },
  {
   "cell_type": "code",
   "execution_count": 122,
   "id": "a900fbef",
   "metadata": {},
   "outputs": [
    {
     "data": {
      "text/plain": [
       "[10, 4, 5, ['split', 'merge', 10]]"
      ]
     },
     "execution_count": 122,
     "metadata": {},
     "output_type": "execute_result"
    }
   ],
   "source": [
    "# using pop() method to remove the values in the dictionary\n",
    "d6.pop('new')"
   ]
  },
  {
   "cell_type": "code",
   "execution_count": 124,
   "id": "028e9407",
   "metadata": {},
   "outputs": [
    {
     "data": {
      "text/plain": [
       "{'old': ('s', 17, 0), 'mid': {'ram': 4, 'ravi': 8}}"
      ]
     },
     "execution_count": 124,
     "metadata": {},
     "output_type": "execute_result"
    }
   ],
   "source": [
    "d6"
   ]
  },
  {
   "cell_type": "code",
   "execution_count": 125,
   "id": "274945d4",
   "metadata": {},
   "outputs": [],
   "source": [
    "# replace a key name 'mid' into middle\n",
    "#d6['mid']='middle' # it will replace the values in the corresponding key."
   ]
  },
  {
   "cell_type": "code",
   "execution_count": 128,
   "id": "8c85e5c2",
   "metadata": {},
   "outputs": [
    {
     "data": {
      "text/plain": [
       "{'new': [9, 4, 5, ['split', 'merge', 10]],\n",
       " 'old': ('s', 17, 0),\n",
       " 'middle': {'ram': 4, 'ravi': 8}}"
      ]
     },
     "execution_count": 128,
     "metadata": {},
     "output_type": "execute_result"
    }
   ],
   "source": [
    "# using pop() method to rename the key names in the dictionary\n",
    "d6['middle']=d6.pop('mid')\n",
    "d6"
   ]
  },
  {
   "cell_type": "code",
   "execution_count": null,
   "id": "6005e347",
   "metadata": {},
   "outputs": [],
   "source": [
    "?d6.pop() # shift+tab "
   ]
  },
  {
   "cell_type": "code",
   "execution_count": null,
   "id": "c6833122",
   "metadata": {},
   "outputs": [],
   "source": []
  },
  {
   "cell_type": "markdown",
   "id": "82c269ab",
   "metadata": {},
   "source": [
    "### Sets\n",
    "- Unordered sequence of elements\n",
    "\n",
    "- create set objects by using {} or set()\n",
    "\n",
    "- sets are immutable\n",
    "\n",
    "- sets are iterables"
   ]
  },
  {
   "cell_type": "code",
   "execution_count": 134,
   "id": "90c3cf9a",
   "metadata": {},
   "outputs": [
    {
     "data": {
      "text/plain": [
       "set"
      ]
     },
     "execution_count": 134,
     "metadata": {},
     "output_type": "execute_result"
    }
   ],
   "source": [
    "#create a set\n",
    "# empty set\n",
    "s1=set()\n",
    "type(s1)"
   ]
  },
  {
   "cell_type": "code",
   "execution_count": 135,
   "id": "b64ccae9",
   "metadata": {},
   "outputs": [],
   "source": [
    "# create a set object of string values\n",
    "s3={\"Monday\",\"Tuesday\",\"Wednesday\",\"Thursday\",\"Friday\"}\n"
   ]
  },
  {
   "cell_type": "code",
   "execution_count": 136,
   "id": "5c4732f9",
   "metadata": {},
   "outputs": [],
   "source": [
    "# create a set object of list values\n",
    "s4=set([\"Monday\",\"Tuesday\",\"Wednesday\",\"Thursday\",\"Friday\"])\n"
   ]
  },
  {
   "cell_type": "code",
   "execution_count": 138,
   "id": "d20a5af5",
   "metadata": {},
   "outputs": [
    {
     "ename": "TypeError",
     "evalue": "'set' object is not subscriptable",
     "output_type": "error",
     "traceback": [
      "\u001b[1;31m---------------------------------------------------------------------------\u001b[0m",
      "\u001b[1;31mTypeError\u001b[0m                                 Traceback (most recent call last)",
      "\u001b[1;32m~\\AppData\\Local\\Temp/ipykernel_16964/957271931.py\u001b[0m in \u001b[0;36m<module>\u001b[1;34m\u001b[0m\n\u001b[1;32m----> 1\u001b[1;33m \u001b[0ms4\u001b[0m\u001b[1;33m[\u001b[0m\u001b[1;36m0\u001b[0m\u001b[1;33m]\u001b[0m\u001b[1;33m\u001b[0m\u001b[1;33m\u001b[0m\u001b[0m\n\u001b[0m",
      "\u001b[1;31mTypeError\u001b[0m: 'set' object is not subscriptable"
     ]
    }
   ],
   "source": [
    "s4[0] #cannot do indexing and slicing "
   ]
  },
  {
   "cell_type": "code",
   "execution_count": 137,
   "id": "e43060c9",
   "metadata": {},
   "outputs": [
    {
     "ename": "TypeError",
     "evalue": "'set' object does not support item assignment",
     "output_type": "error",
     "traceback": [
      "\u001b[1;31m---------------------------------------------------------------------------\u001b[0m",
      "\u001b[1;31mTypeError\u001b[0m                                 Traceback (most recent call last)",
      "\u001b[1;32m~\\AppData\\Local\\Temp/ipykernel_16964/3803929959.py\u001b[0m in \u001b[0;36m<module>\u001b[1;34m\u001b[0m\n\u001b[0;32m      1\u001b[0m \u001b[1;31m#immutable\u001b[0m\u001b[1;33m\u001b[0m\u001b[1;33m\u001b[0m\u001b[0m\n\u001b[1;32m----> 2\u001b[1;33m \u001b[0ms4\u001b[0m\u001b[1;33m[\u001b[0m\u001b[1;36m0\u001b[0m\u001b[1;33m]\u001b[0m\u001b[1;33m=\u001b[0m\u001b[1;36m9\u001b[0m\u001b[1;33m\u001b[0m\u001b[1;33m\u001b[0m\u001b[0m\n\u001b[0m",
      "\u001b[1;31mTypeError\u001b[0m: 'set' object does not support item assignment"
     ]
    }
   ],
   "source": [
    "#immutable\n",
    "s4[0]=9"
   ]
  },
  {
   "cell_type": "code",
   "execution_count": 139,
   "id": "884d0f45",
   "metadata": {},
   "outputs": [
    {
     "name": "stdout",
     "output_type": "stream",
     "text": [
      "['__and__', '__class__', '__class_getitem__', '__contains__', '__delattr__', '__dir__', '__doc__', '__eq__', '__format__', '__ge__', '__getattribute__', '__gt__', '__hash__', '__iand__', '__init__', '__init_subclass__', '__ior__', '__isub__', '__iter__', '__ixor__', '__le__', '__len__', '__lt__', '__ne__', '__new__', '__or__', '__rand__', '__reduce__', '__reduce_ex__', '__repr__', '__ror__', '__rsub__', '__rxor__', '__setattr__', '__sizeof__', '__str__', '__sub__', '__subclasshook__', '__xor__', 'add', 'clear', 'copy', 'difference', 'difference_update', 'discard', 'intersection', 'intersection_update', 'isdisjoint', 'issubset', 'issuperset', 'pop', 'remove', 'symmetric_difference', 'symmetric_difference_update', 'union', 'update']\n"
     ]
    }
   ],
   "source": [
    "print(dir(s4))"
   ]
  },
  {
   "cell_type": "code",
   "execution_count": 140,
   "id": "c8190fe1",
   "metadata": {},
   "outputs": [
    {
     "data": {
      "text/plain": [
       "{'Friday', 'Monday', 'Saturday', 'Thursday', 'Tuesday', 'Wednesday'}"
      ]
     },
     "execution_count": 140,
     "metadata": {},
     "output_type": "execute_result"
    }
   ],
   "source": [
    "# add element in the set s4.\n",
    "s4.add('Saturday')\n",
    "s4"
   ]
  },
  {
   "cell_type": "code",
   "execution_count": 141,
   "id": "1e3e42c4",
   "metadata": {},
   "outputs": [],
   "source": [
    "#update\n",
    "s4.update(['Day1','Day2','Day3'])"
   ]
  },
  {
   "cell_type": "code",
   "execution_count": 143,
   "id": "00cc603a",
   "metadata": {},
   "outputs": [
    {
     "name": "stdout",
     "output_type": "stream",
     "text": [
      "{'Friday', 'Wednesday', 'Tuesday', 'Saturday', 'Day1', 'Thursday', 'Monday', 'Day3', 'Day2'}\n"
     ]
    }
   ],
   "source": [
    "print(s4)"
   ]
  },
  {
   "cell_type": "code",
   "execution_count": null,
   "id": "e9b69e4c",
   "metadata": {},
   "outputs": [],
   "source": [
    "# removing the items\n",
    "- remove()\n",
    "- pop()\n",
    "- discard()\n",
    "\n",
    "#discard() function if the item does not exist in the set then the set remain unchanged \n",
    "#whereas remove() method will through an error\n"
   ]
  },
  {
   "cell_type": "code",
   "execution_count": 144,
   "id": "c71f106e",
   "metadata": {},
   "outputs": [
    {
     "data": {
      "text/plain": [
       "{'Day2',\n",
       " 'Day3',\n",
       " 'Friday',\n",
       " 'Monday',\n",
       " 'Saturday',\n",
       " 'Thursday',\n",
       " 'Tuesday',\n",
       " 'Wednesday'}"
      ]
     },
     "execution_count": 144,
     "metadata": {},
     "output_type": "execute_result"
    }
   ],
   "source": [
    "s4.remove('Day1')\n",
    "s4"
   ]
  },
  {
   "cell_type": "code",
   "execution_count": 146,
   "id": "84f06d0f",
   "metadata": {},
   "outputs": [
    {
     "data": {
      "text/plain": [
       "'Friday'"
      ]
     },
     "execution_count": 146,
     "metadata": {},
     "output_type": "execute_result"
    }
   ],
   "source": [
    "s4.pop()"
   ]
  },
  {
   "cell_type": "code",
   "execution_count": 148,
   "id": "08830621",
   "metadata": {},
   "outputs": [
    {
     "data": {
      "text/plain": [
       "'Wednesday'"
      ]
     },
     "execution_count": 148,
     "metadata": {},
     "output_type": "execute_result"
    }
   ],
   "source": [
    "s4.pop()"
   ]
  },
  {
   "cell_type": "code",
   "execution_count": null,
   "id": "d2e250b9",
   "metadata": {},
   "outputs": [],
   "source": [
    "?s4.discard()"
   ]
  },
  {
   "cell_type": "code",
   "execution_count": 149,
   "id": "a37b2b15",
   "metadata": {},
   "outputs": [],
   "source": [
    "s4.discard('Friday')"
   ]
  },
  {
   "cell_type": "code",
   "execution_count": 150,
   "id": "50b48006",
   "metadata": {},
   "outputs": [
    {
     "data": {
      "text/plain": [
       "{'Day2', 'Day3', 'Monday', 'Saturday', 'Thursday', 'Tuesday'}"
      ]
     },
     "execution_count": 150,
     "metadata": {},
     "output_type": "execute_result"
    }
   ],
   "source": [
    "s4"
   ]
  },
  {
   "cell_type": "markdown",
   "id": "4547c28e",
   "metadata": {},
   "source": [
    "### Set operations\n",
    "- Union\n",
    "\n",
    "- Intersection\n",
    "\n",
    "- Difference\n",
    "\n",
    "- Symmetric difference"
   ]
  },
  {
   "cell_type": "code",
   "execution_count": 151,
   "id": "848ebfb4",
   "metadata": {},
   "outputs": [
    {
     "data": {
      "text/plain": [
       "{'Friday', 'Monday', 'Saturday', 'Sunday', 'Thursday', 'Tuesday', 'Wednesday'}"
      ]
     },
     "execution_count": 151,
     "metadata": {},
     "output_type": "execute_result"
    }
   ],
   "source": [
    "#union\n",
    "Days1={'Monday',\"Tuesday\",\"Wednesday\",\"Thursday\",\"Sunday\"}\n",
    "Days2={\"Friday\",\"Saturday\",\"Sunday\"}\n",
    "Days1.union(Days2)"
   ]
  },
  {
   "cell_type": "code",
   "execution_count": 153,
   "id": "21209f15",
   "metadata": {},
   "outputs": [
    {
     "data": {
      "text/plain": [
       "{'Sunday'}"
      ]
     },
     "execution_count": 153,
     "metadata": {},
     "output_type": "execute_result"
    }
   ],
   "source": [
    "#intersection\n",
    "Days1.intersection(Days2)"
   ]
  },
  {
   "cell_type": "code",
   "execution_count": 154,
   "id": "ffb58a07",
   "metadata": {},
   "outputs": [
    {
     "data": {
      "text/plain": [
       "{10, 20}"
      ]
     },
     "execution_count": 154,
     "metadata": {},
     "output_type": "execute_result"
    }
   ],
   "source": [
    "# difference\n",
    "# elements in one set which are all not in another set.\n",
    "A={10,20,30,40,50}\n",
    "B={100,30,50,40,60}\n",
    "A.difference(B) # A-B"
   ]
  },
  {
   "cell_type": "code",
   "execution_count": 156,
   "id": "4a057aeb",
   "metadata": {},
   "outputs": [
    {
     "data": {
      "text/plain": [
       "{10, 20}"
      ]
     },
     "execution_count": 156,
     "metadata": {},
     "output_type": "execute_result"
    }
   ],
   "source": [
    "A-B"
   ]
  },
  {
   "cell_type": "code",
   "execution_count": 155,
   "id": "bcab2558",
   "metadata": {},
   "outputs": [
    {
     "data": {
      "text/plain": [
       "{60, 100}"
      ]
     },
     "execution_count": 155,
     "metadata": {},
     "output_type": "execute_result"
    }
   ],
   "source": [
    "B.difference(A)"
   ]
  },
  {
   "cell_type": "code",
   "execution_count": 157,
   "id": "42de055b",
   "metadata": {},
   "outputs": [
    {
     "data": {
      "text/plain": [
       "{60, 100}"
      ]
     },
     "execution_count": 157,
     "metadata": {},
     "output_type": "execute_result"
    }
   ],
   "source": [
    "B-A"
   ]
  },
  {
   "cell_type": "code",
   "execution_count": null,
   "id": "60ef855b",
   "metadata": {},
   "outputs": [],
   "source": [
    "# Symmetric differnce\n",
    "#All the elements except intersection."
   ]
  },
  {
   "cell_type": "code",
   "execution_count": 158,
   "id": "849fc8e5",
   "metadata": {},
   "outputs": [
    {
     "data": {
      "text/plain": [
       "{10, 20, 60, 100}"
      ]
     },
     "execution_count": 158,
     "metadata": {},
     "output_type": "execute_result"
    }
   ],
   "source": [
    "A.symmetric_difference(B)"
   ]
  },
  {
   "cell_type": "code",
   "execution_count": 159,
   "id": "5c3541f5",
   "metadata": {},
   "outputs": [
    {
     "data": {
      "text/plain": [
       "{10, 20, 60, 100}"
      ]
     },
     "execution_count": 159,
     "metadata": {},
     "output_type": "execute_result"
    }
   ],
   "source": [
    "B.symmetric_difference(A)"
   ]
  },
  {
   "cell_type": "code",
   "execution_count": 160,
   "id": "53623187",
   "metadata": {},
   "outputs": [
    {
     "name": "stdout",
     "output_type": "stream",
     "text": [
      "50\n",
      "20\n",
      "40\n",
      "10\n",
      "30\n"
     ]
    }
   ],
   "source": [
    "# for loop\n",
    "for i in A:\n",
    "    print(i)"
   ]
  },
  {
   "cell_type": "code",
   "execution_count": 162,
   "id": "b6394772",
   "metadata": {},
   "outputs": [
    {
     "data": {
      "text/plain": [
       "[4, 9, 16]"
      ]
     },
     "execution_count": 162,
     "metadata": {},
     "output_type": "execute_result"
    }
   ],
   "source": [
    "### map and filter function\n",
    "# find the square of elements in the list\n",
    "#map function: map square function\n",
    "b=[2,3,4]\n",
    "# map(fun,iterable)\n",
    "square1=lambda x:x**2\n",
    "list(map(square1,b))"
   ]
  },
  {
   "cell_type": "code",
   "execution_count": 163,
   "id": "cd49f724",
   "metadata": {},
   "outputs": [
    {
     "data": {
      "text/plain": [
       "(4, 9, 16)"
      ]
     },
     "execution_count": 163,
     "metadata": {},
     "output_type": "execute_result"
    }
   ],
   "source": [
    "tuple(map(square1,b))"
   ]
  },
  {
   "cell_type": "code",
   "execution_count": 165,
   "id": "2acff138",
   "metadata": {},
   "outputs": [
    {
     "data": {
      "text/plain": [
       "['food', 'great']"
      ]
     },
     "execution_count": 165,
     "metadata": {},
     "output_type": "execute_result"
    }
   ],
   "source": [
    "# filter function\n",
    "# filter the words from a list that dont start with the letter 's'\n",
    "seq=['soup','salad','food','great']\n",
    "words=lambda x:x[0]!='s'\n",
    "list(filter(words,seq))"
   ]
  },
  {
   "cell_type": "code",
   "execution_count": 166,
   "id": "b8333f76",
   "metadata": {},
   "outputs": [
    {
     "data": {
      "text/plain": [
       "['food', 'great']"
      ]
     },
     "execution_count": 166,
     "metadata": {},
     "output_type": "execute_result"
    }
   ],
   "source": [
    "seq=('soup','salad','food','great')\n",
    "words=lambda x:x[0]!='s'\n",
    "list(filter(words,seq))"
   ]
  },
  {
   "cell_type": "code",
   "execution_count": 168,
   "id": "d586692f",
   "metadata": {},
   "outputs": [
    {
     "data": {
      "text/plain": [
       "{1, 2, 3, 4, 5, 7}"
      ]
     },
     "execution_count": 168,
     "metadata": {},
     "output_type": "execute_result"
    }
   ],
   "source": [
    "# Set objects remove duplicates\n",
    "s=[1,2,4,2,5,3,3,7,7,7]\n",
    "set1=set(s)\n",
    "set1"
   ]
  },
  {
   "cell_type": "code",
   "execution_count": null,
   "id": "dbf10068",
   "metadata": {},
   "outputs": [],
   "source": [
    "--------------------------------------------------End--------------------------------------------------------------"
   ]
  }
 ],
 "metadata": {
  "kernelspec": {
   "display_name": "Python 3 (ipykernel)",
   "language": "python",
   "name": "python3"
  },
  "language_info": {
   "codemirror_mode": {
    "name": "ipython",
    "version": 3
   },
   "file_extension": ".py",
   "mimetype": "text/x-python",
   "name": "python",
   "nbconvert_exporter": "python",
   "pygments_lexer": "ipython3",
   "version": "3.9.7"
  }
 },
 "nbformat": 4,
 "nbformat_minor": 5
}
