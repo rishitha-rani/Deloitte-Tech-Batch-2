{
 "cells": [
  {
   "cell_type": "markdown",
   "id": "f1d44450",
   "metadata": {},
   "source": [
    "# Solution I "
   ]
  },
  {
   "cell_type": "code",
   "execution_count": 2,
   "id": "3101586e",
   "metadata": {},
   "outputs": [
    {
     "name": "stdout",
     "output_type": "stream",
     "text": [
      "geeks quiz practice code\n",
      "code practice quiz geeks\n"
     ]
    }
   ],
   "source": [
    "# To reverse words in a given string\n",
    " \n",
    "# input string\n",
    "string = \"geeks quiz practice code\"\n",
    "# reversing words in a given string\n",
    "s = string.split()[::-1]\n",
    "l = []\n",
    "for i in s:\n",
    "    # apending reversed words to l\n",
    "    l.append(i)\n",
    "# printing reverse words\n",
    "print(string)\n",
    "print(\" \".join(l))"
   ]
  },
  {
   "cell_type": "code",
   "execution_count": 3,
   "id": "0dbe4167",
   "metadata": {},
   "outputs": [
    {
     "name": "stdout",
     "output_type": "stream",
     "text": [
      "code practice quiz geeks\n"
     ]
    }
   ],
   "source": [
    "# another method\n",
    "str1=\"geeks quiz practice code\"\n",
    "s=str1.split()\n",
    "p=list(reversed(s))\n",
    "print(\" \".join(p))"
   ]
  },
  {
   "cell_type": "code",
   "execution_count": 9,
   "id": "a63e8b67",
   "metadata": {},
   "outputs": [
    {
     "name": "stdout",
     "output_type": "stream",
     "text": [
      "code practice quiz geeks \n"
     ]
    }
   ],
   "source": [
    "s=\"geeks quiz practice code\"\n",
    "r=s.split()\n",
    "res=\"\"\n",
    "for i in range (len(r)-1,-1,-1):\n",
    "    res=res+r[i]+' '\n",
    "print(res)"
   ]
  },
  {
   "cell_type": "code",
   "execution_count": 11,
   "id": "08f1f308",
   "metadata": {},
   "outputs": [
    {
     "name": "stdout",
     "output_type": "stream",
     "text": [
      "This\n",
      "is\n",
      "python\n",
      "language\n"
     ]
    }
   ],
   "source": [
    "#To print even length words in string\n",
    " \n",
    "#input string\n",
    "n=\"This is a python language\"\n",
    "#splitting the words in a given string\n",
    "s=n.split(\" \")\n",
    "for i in s:\n",
    "  #checking the length of words\n",
    "  if len(i)%2==0:\n",
    "    print(i)"
   ]
  },
  {
   "cell_type": "code",
   "execution_count": 12,
   "id": "afd71bb4",
   "metadata": {},
   "outputs": [
    {
     "name": "stdout",
     "output_type": "stream",
     "text": [
      "This is python language\n"
     ]
    }
   ],
   "source": [
    "# another method\n",
    "#input string\n",
    "n=\"This is a python language\"\n",
    "#splitting the words in a given string\n",
    "s=n.split(\" \")\n",
    "a=[i for i in s if len(i)%2==0]\n",
    "print(\" \".join(a))"
   ]
  },
  {
   "cell_type": "code",
   "execution_count": 13,
   "id": "4f01980b",
   "metadata": {},
   "outputs": [
    {
     "data": {
      "text/plain": [
       "24"
      ]
     },
     "execution_count": 13,
     "metadata": {},
     "output_type": "execute_result"
    }
   ],
   "source": [
    "#Find the largest item from a given list\n",
    "x = [4, 6, 8, 24, 12, 2]\n",
    "max(x)"
   ]
  },
  {
   "cell_type": "code",
   "execution_count": 14,
   "id": "ae92a9c1",
   "metadata": {},
   "outputs": [
    {
     "data": {
      "text/plain": [
       "[500, 400, 300, 200, 100]"
      ]
     },
     "execution_count": 14,
     "metadata": {},
     "output_type": "execute_result"
    }
   ],
   "source": [
    " #Reverse a list in Python\n",
    "list1 = [100, 200, 300, 400, 500]\n",
    "sorted(list1,reverse=True)"
   ]
  },
  {
   "cell_type": "code",
   "execution_count": 16,
   "id": "ddb0c91a",
   "metadata": {},
   "outputs": [
    {
     "data": {
      "text/plain": [
       "[9, 45, 109, 12, 23, 34]"
      ]
     },
     "execution_count": 16,
     "metadata": {},
     "output_type": "execute_result"
    }
   ],
   "source": [
    "list2=[34,23,12,109,45,9]\n",
    "list2.reverse()\n",
    "list2"
   ]
  },
  {
   "cell_type": "code",
   "execution_count": 18,
   "id": "6988facb",
   "metadata": {},
   "outputs": [
    {
     "data": {
      "text/plain": [
       "[34, 23, 12, 109, 45, 9]"
      ]
     },
     "execution_count": 18,
     "metadata": {},
     "output_type": "execute_result"
    }
   ],
   "source": [
    "# another method\n",
    "[list2[i] for i in range(len(list2)-1,-1,-1)]"
   ]
  },
  {
   "cell_type": "code",
   "execution_count": 20,
   "id": "e1bd9fef",
   "metadata": {},
   "outputs": [
    {
     "name": "stdout",
     "output_type": "stream",
     "text": [
      "[34, 23, 12, 109, 45, 9]\n"
     ]
    }
   ],
   "source": [
    "print(list2[::-1])"
   ]
  },
  {
   "cell_type": "code",
   "execution_count": 21,
   "id": "cf79e842",
   "metadata": {},
   "outputs": [
    {
     "name": "stdout",
     "output_type": "stream",
     "text": [
      "[24, 35, 9, 56, 12]\n"
     ]
    }
   ],
   "source": [
    "# Swap function\n",
    "def swapList(newList):\n",
    "     \n",
    "    newList[0], newList[-1] = newList[-1], newList[0]\n",
    " \n",
    "    return newList\n",
    "     \n",
    "# Driver code\n",
    "newList = [12, 35, 9, 56, 24]\n",
    "print(swapList(newList))"
   ]
  },
  {
   "cell_type": "code",
   "execution_count": 24,
   "id": "754ca5d2",
   "metadata": {},
   "outputs": [
    {
     "name": "stdout",
     "output_type": "stream",
     "text": [
      "[24, 35, 9, 56, 12]\n"
     ]
    }
   ],
   "source": [
    "# another method\n",
    "x = [12, 35, 9, 56, 24]\n",
    "temp=x[0]\n",
    "x[0]=x[len(x)-1]  # len(x)-1 = [-1]\n",
    "x[len(x)-1]=temp\n",
    "print(x)"
   ]
  },
  {
   "cell_type": "code",
   "execution_count": null,
   "id": "a0f6a33f",
   "metadata": {},
   "outputs": [],
   "source": [
    "Turn every item of a list into its square\n",
    "Given a list of numbers. write a program to turn every item of a list into its square.\n",
    "numbers = [1, 2, 3, 4, 5, 6, 7]\n",
    "Expected output:\n",
    "\n",
    "[1, 4, 9, 16, 25, 36, 49]"
   ]
  },
  {
   "cell_type": "code",
   "execution_count": 25,
   "id": "c5be4948",
   "metadata": {},
   "outputs": [
    {
     "data": {
      "text/plain": [
       "[1, 4, 9, 16, 25, 36, 49]"
      ]
     },
     "execution_count": 25,
     "metadata": {},
     "output_type": "execute_result"
    }
   ],
   "source": [
    "numbers = [1, 2, 3, 4, 5, 6, 7]\n",
    "[x**2 for x in numbers]"
   ]
  },
  {
   "cell_type": "code",
   "execution_count": 26,
   "id": "1dd8b65e",
   "metadata": {},
   "outputs": [
    {
     "name": "stdout",
     "output_type": "stream",
     "text": [
      "Positive numbers in the list:  4\n",
      "Negative numbers in the list:  3\n"
     ]
    }
   ],
   "source": [
    "# list of numbers\n",
    "list1 = [10, -21, 4, -45, 66, -93, 1]\n",
    " \n",
    "pos_count, neg_count = 0, 0\n",
    " \n",
    "# iterating each number in list\n",
    "for num in list1:\n",
    "     \n",
    "    # checking condition\n",
    "    if num >= 0:\n",
    "        pos_count += 1\n",
    " \n",
    "    else:\n",
    "        neg_count += 1\n",
    "         \n",
    "print(\"Positive numbers in the list: \", pos_count)\n",
    "print(\"Negative numbers in the list: \", neg_count)"
   ]
  },
  {
   "cell_type": "code",
   "execution_count": 27,
   "id": "1d577201",
   "metadata": {},
   "outputs": [
    {
     "name": "stdout",
     "output_type": "stream",
     "text": [
      "New list after removing all even numbers:  [11, 5, 17, 23]\n"
     ]
    }
   ],
   "source": [
    "# creating a list\n",
    "list1 = [11, 5, 17, 18, 23, 50]\n",
    " \n",
    "# Iterate each element in list\n",
    "# and add them in variable total\n",
    "for ele in list1:\n",
    "    if ele % 2 == 0:\n",
    "        list1.remove(ele)\n",
    " \n",
    "# printing modified list\n",
    "print(\"New list after removing all even numbers: \", list1)"
   ]
  },
  {
   "cell_type": "code",
   "execution_count": 28,
   "id": "a8edb77a",
   "metadata": {},
   "outputs": [
    {
     "name": "stdout",
     "output_type": "stream",
     "text": [
      "[5, 23]\n"
     ]
    }
   ],
   "source": [
    "del(list1[2],list1[0])\n",
    "print(list1)"
   ]
  },
  {
   "cell_type": "markdown",
   "id": "516db609",
   "metadata": {},
   "source": [
    "### Tuple"
   ]
  },
  {
   "cell_type": "code",
   "execution_count": 29,
   "id": "4e0a1928",
   "metadata": {},
   "outputs": [
    {
     "name": "stdout",
     "output_type": "stream",
     "text": [
      "The summation of tuple elements are : 42\n"
     ]
    }
   ],
   "source": [
    "# Tuple summation\n",
    "# Using list() + sum()\n",
    " \n",
    "# initializing tup\n",
    "test_tup = (7, 8, 9, 1, 10, 7)\n",
    " \n",
    "# printing original tuple\n",
    "#print(\"The original tuple is : \" + str(test_tup))\n",
    " \n",
    "# Tuple elements inversions\n",
    "# Using list() + sum()\n",
    "res = sum(list(test_tup))\n",
    " \n",
    "# printing result\n",
    "print(\"The summation of tuple elements are : \" + str(res))"
   ]
  },
  {
   "cell_type": "raw",
   "id": "405b251b",
   "metadata": {},
   "source": [
    "Access value 20 from the tuple\n",
    "The given tuple is a nested tuple. write a Python program to print the value 20.\n",
    "\n",
    "\n",
    "tuple1 = (\"Orange\", [10, 20, 30], (5, 15, 25))"
   ]
  },
  {
   "cell_type": "code",
   "execution_count": 30,
   "id": "464c92cf",
   "metadata": {},
   "outputs": [
    {
     "data": {
      "text/plain": [
       "20"
      ]
     },
     "execution_count": 30,
     "metadata": {},
     "output_type": "execute_result"
    }
   ],
   "source": [
    "tuple1 = (\"Orange\", [10, 20, 30], (5, 15, 25))\n",
    "tuple1[1][1]"
   ]
  },
  {
   "cell_type": "raw",
   "id": "cf43b8a2",
   "metadata": {},
   "source": [
    "Swap two tuples in Python\n",
    "Given:\n",
    "\n",
    "tuple1 = (11, 22)\n",
    "tuple2 = (99, 88)"
   ]
  },
  {
   "cell_type": "code",
   "execution_count": 32,
   "id": "23bad253",
   "metadata": {},
   "outputs": [
    {
     "name": "stdout",
     "output_type": "stream",
     "text": [
      "(11, 22)\n",
      "(99, 88)\n"
     ]
    }
   ],
   "source": [
    "tuple1 = (11, 22)\n",
    "tuple2 = (99, 88)\n",
    "tuple3=()\n",
    "tuple3=tuple1\n",
    "tuple1=tuple2\n",
    "print(tuple3)\n",
    "print(tuple2)"
   ]
  },
  {
   "cell_type": "code",
   "execution_count": 34,
   "id": "bb8e5105",
   "metadata": {},
   "outputs": [
    {
     "data": {
      "text/plain": [
       "2"
      ]
     },
     "execution_count": 34,
     "metadata": {},
     "output_type": "execute_result"
    }
   ],
   "source": [
    "#Counts the number of occurrences of item 50 from a tuple\n",
    "#Given:\n",
    "\n",
    "tuple1 = (50, 10, 60, 70, 50)\n",
    "tuple1.count(50)"
   ]
  },
  {
   "cell_type": "code",
   "execution_count": 43,
   "id": "704f9c8d",
   "metadata": {},
   "outputs": [
    {
     "name": "stdout",
     "output_type": "stream",
     "text": [
      "2\n"
     ]
    }
   ],
   "source": [
    "count=0\n",
    "tuple1 = (50, 10, 60, 70, 50)\n",
    "for i in tuple1:\n",
    "    if i==50:\n",
    "        count=count+1\n",
    "print(count)"
   ]
  },
  {
   "cell_type": "code",
   "execution_count": 47,
   "id": "64bfecb5",
   "metadata": {},
   "outputs": [
    {
     "data": {
      "text/plain": [
       "[1, 1]"
      ]
     },
     "execution_count": 47,
     "metadata": {},
     "output_type": "execute_result"
    }
   ],
   "source": [
    "c=0\n",
    "[c+1 for i in tuple1 if i==50 ]"
   ]
  },
  {
   "cell_type": "code",
   "execution_count": null,
   "id": "c04535b1",
   "metadata": {},
   "outputs": [],
   "source": [
    "### Dictionary"
   ]
  },
  {
   "cell_type": "raw",
   "id": "78dc34a6",
   "metadata": {},
   "source": [
    "Rename key of a dictionary\n",
    "Write a program to rename a key city to a location in the following dictionary.\n",
    "sample_dict = {\n",
    "  \"name\": \"Kelly\",\n",
    "  \"age\":25,\n",
    "  \"salary\": 8000,\n",
    "  \"city\": \"New york\"\n",
    "}\n",
    "Expected output:\n",
    "\n",
    "{'name': 'Kelly', 'age': 25, 'salary': 8000, 'location': 'New york'}"
   ]
  },
  {
   "cell_type": "code",
   "execution_count": 48,
   "id": "01d3c1dd",
   "metadata": {},
   "outputs": [
    {
     "data": {
      "text/plain": [
       "{'name': 'Kelly', 'age': 25, 'salary': 8000, 'location': 'New york'}"
      ]
     },
     "execution_count": 48,
     "metadata": {},
     "output_type": "execute_result"
    }
   ],
   "source": [
    "sample_dict = {\n",
    "  \"name\": \"Kelly\",\n",
    "  \"age\":25,\n",
    "  \"salary\": 8000,\n",
    "  \"city\": \"New york\"\n",
    "}\n",
    "sample_dict['location']=sample_dict.pop('city')\n",
    "sample_dict"
   ]
  },
  {
   "cell_type": "code",
   "execution_count": 50,
   "id": "5d70d650",
   "metadata": {},
   "outputs": [
    {
     "name": "stdout",
     "output_type": "stream",
     "text": [
      "Sum : 600\n"
     ]
    }
   ],
   "source": [
    "# Function to print sum\n",
    " \n",
    "def returnSum(myDict):\n",
    " \n",
    "    list = []\n",
    "    for i in myDict:\n",
    "        list.append(myDict[i])\n",
    "    final = sum(list)\n",
    " \n",
    "    return final\n",
    " \n",
    " \n",
    "# Driver Function\n",
    "dict1 = {'a': 100, 'b': 200, 'c': 300}\n",
    "print(\"Sum :\", returnSum(dict1))"
   ]
  },
  {
   "cell_type": "code",
   "execution_count": 51,
   "id": "8c8cd53a",
   "metadata": {},
   "outputs": [
    {
     "name": "stdout",
     "output_type": "stream",
     "text": [
      "600\n"
     ]
    }
   ],
   "source": [
    "# another method\n",
    "s=0\n",
    "for i in dict1:\n",
    "    s=s+dict1[i]\n",
    "print(s)"
   ]
  },
  {
   "cell_type": "code",
   "execution_count": null,
   "id": "86b9efcb",
   "metadata": {},
   "outputs": [],
   "source": []
  },
  {
   "cell_type": "code",
   "execution_count": 9,
   "id": "a547df98",
   "metadata": {},
   "outputs": [],
   "source": [
    "def areRotations(string1, string2):\n",
    "    size1 = len(string1)\n",
    "    size2 = len(string2)\n",
    "    temp = ''\n",
    " \n",
    "    # Check if sizes of two strings are same\n",
    "    if size1 != size2:\n",
    "        return 0\n",
    " \n",
    "    # Create a temp string with value str1.str1\n",
    "    temp = string1 + string1\n",
    " \n",
    "    # Now check if str2 is a substring of temp\n",
    "    # string.count returns the number of occurrences of\n",
    "    # the second string in temp\n",
    "    if (temp.count(string2)> 0):\n",
    "        print(\"Strings are rotations of each other\")\n",
    "    else:\n",
    "        print(\"Strings are not rotations of each other\")\n"
   ]
  },
  {
   "cell_type": "code",
   "execution_count": 10,
   "id": "2db301e2",
   "metadata": {},
   "outputs": [
    {
     "name": "stdout",
     "output_type": "stream",
     "text": [
      "Strings are not rotations of each other\n"
     ]
    }
   ],
   "source": [
    "areRotations('Hello','IHell')"
   ]
  },
  {
   "cell_type": "code",
   "execution_count": null,
   "id": "64836d7d",
   "metadata": {},
   "outputs": [],
   "source": [
    "#rotate a list\n",
    "List_1 = [1, 2, 3, 4, 5, 6]\n",
    "\n",
    "n = int(input())\n",
    " \n",
    "list_1 = [1, 2, 3, 4, 5, 6]\n",
    "list_1 = (list_1[len(list_1) - n:len(list_1)]\n",
    "                 + list_1[0:len(list_1) - n])\n",
    "print(list_1,',',n)"
   ]
  },
  {
   "cell_type": "code",
   "execution_count": null,
   "id": "20e6e3c7",
   "metadata": {},
   "outputs": [],
   "source": [
    "### LMS Problems"
   ]
  },
  {
   "cell_type": "code",
   "execution_count": null,
   "id": "0fd07328",
   "metadata": {},
   "outputs": [],
   "source": [
    "## Write a Python program to sort a given dictionary by key.\n",
    "\n",
    "data = {'banana': 80,'cherry': 20,'apple': 60,'grapes':120}\n",
    "sorted_result = sorted(data.items())\n",
    "\n",
    "print(sorted_result)"
   ]
  },
  {
   "cell_type": "code",
   "execution_count": 13,
   "id": "68e758c7",
   "metadata": {},
   "outputs": [
    {
     "data": {
      "text/plain": [
       "dict_items([('banana', 80), ('cherry', 200), ('apple', 60), ('grapes', 120)])"
      ]
     },
     "execution_count": 13,
     "metadata": {},
     "output_type": "execute_result"
    }
   ],
   "source": [
    "data.items()"
   ]
  },
  {
   "cell_type": "code",
   "execution_count": 1,
   "id": "d53c3157",
   "metadata": {},
   "outputs": [
    {
     "name": "stdout",
     "output_type": "stream",
     "text": [
      "[15, 14, 13, 12, 11, 10]\n"
     ]
    }
   ],
   "source": [
    "#Write a python program to create a list and print all the items in reverse index order.\n",
    "lst = [10, 11, 12, 13, 14, 15]\n",
    "lst.reverse()\n",
    "print(lst)"
   ]
  },
  {
   "cell_type": "code",
   "execution_count": 11,
   "id": "c1ff10ee",
   "metadata": {},
   "outputs": [
    {
     "name": "stdout",
     "output_type": "stream",
     "text": [
      "['__add__', '__class__', '__contains__', '__delattr__', '__dir__', '__doc__', '__eq__', '__format__', '__ge__', '__getattribute__', '__getitem__', '__getnewargs__', '__gt__', '__hash__', '__init__', '__init_subclass__', '__iter__', '__le__', '__len__', '__lt__', '__mod__', '__mul__', '__ne__', '__new__', '__reduce__', '__reduce_ex__', '__repr__', '__rmod__', '__rmul__', '__setattr__', '__sizeof__', '__str__', '__subclasshook__', 'capitalize', 'casefold', 'center', 'count', 'encode', 'endswith', 'expandtabs', 'find', 'format', 'format_map', 'index', 'isalnum', 'isalpha', 'isascii', 'isdecimal', 'isdigit', 'isidentifier', 'islower', 'isnumeric', 'isprintable', 'isspace', 'istitle', 'isupper', 'join', 'ljust', 'lower', 'lstrip', 'maketrans', 'partition', 'removeprefix', 'removesuffix', 'replace', 'rfind', 'rindex', 'rjust', 'rpartition', 'rsplit', 'rstrip', 'split', 'splitlines', 'startswith', 'strip', 'swapcase', 'title', 'translate', 'upper', 'zfill']\n"
     ]
    }
   ],
   "source": [
    "s='hello'\n",
    "print(dir(s))\n"
   ]
  },
  {
   "cell_type": "code",
   "execution_count": 10,
   "id": "0af47609",
   "metadata": {},
   "outputs": [
    {
     "data": {
      "text/plain": [
       "2"
      ]
     },
     "execution_count": 10,
     "metadata": {},
     "output_type": "execute_result"
    }
   ],
   "source": [
    "s.find('l')"
   ]
  },
  {
   "cell_type": "code",
   "execution_count": 20,
   "id": "a4b3bc3a",
   "metadata": {},
   "outputs": [
    {
     "data": {
      "text/plain": [
       "[0, 1, 4, 7, 23, 3, 12, 43, 87, 90]"
      ]
     },
     "execution_count": 20,
     "metadata": {},
     "output_type": "execute_result"
    }
   ],
   "source": [
    "#Write a Python function that takes two sorted lists and return merged List.\n",
    "List_1=[7,23,4,0,1]\n",
    "List_2=[90,3,12,87,43]\n",
    "List_1.sort()\n",
    "List_2.sort()\n",
    "List_1+List_2"
   ]
  },
  {
   "cell_type": "code",
   "execution_count": 21,
   "id": "0ca0a3fb",
   "metadata": {},
   "outputs": [
    {
     "data": {
      "text/plain": [
       "{2, 3, 4, 6, 7}"
      ]
     },
     "execution_count": 21,
     "metadata": {},
     "output_type": "execute_result"
    }
   ],
   "source": [
    "#Write a Python program to remove duplicates from a list\n",
    "List_3=[2,3,4,3,6,2,7,4]\n",
    "new_list=set(List_3)\n",
    "new_list"
   ]
  },
  {
   "cell_type": "code",
   "execution_count": 23,
   "id": "38ea3643",
   "metadata": {},
   "outputs": [
    {
     "name": "stdout",
     "output_type": "stream",
     "text": [
      "No\n"
     ]
    }
   ],
   "source": [
    "#Write a python function to check whether the list is Ascending order or not.\n",
    "n=[56,90,87,54]    #assign list values from input\n",
    "if sorted(n) == n: #for descending, use sorted(n, reverse=True)\n",
    "    print(\"Yes\")\n",
    "else:\n",
    "    print(\"No\")"
   ]
  },
  {
   "cell_type": "code",
   "execution_count": null,
   "id": "f62b3797",
   "metadata": {},
   "outputs": [],
   "source": []
  }
 ],
 "metadata": {
  "kernelspec": {
   "display_name": "Python 3 (ipykernel)",
   "language": "python",
   "name": "python3"
  },
  "language_info": {
   "codemirror_mode": {
    "name": "ipython",
    "version": 3
   },
   "file_extension": ".py",
   "mimetype": "text/x-python",
   "name": "python",
   "nbconvert_exporter": "python",
   "pygments_lexer": "ipython3",
   "version": "3.9.7"
  }
 },
 "nbformat": 4,
 "nbformat_minor": 5
}
