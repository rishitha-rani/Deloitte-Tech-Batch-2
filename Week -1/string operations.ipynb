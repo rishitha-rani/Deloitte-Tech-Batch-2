{
 "cells": [
  {
   "cell_type": "markdown",
   "id": "f10429d1",
   "metadata": {},
   "source": [
    "### Strings : operations & slicing"
   ]
  },
  {
   "cell_type": "code",
   "execution_count": null,
   "id": "98b12d01",
   "metadata": {},
   "outputs": [],
   "source": [
    "# Iterable: ability to do index and write for loop on that object"
   ]
  },
  {
   "cell_type": "markdown",
   "id": "dd021f3e",
   "metadata": {},
   "source": [
    "#### indexing & Slicing"
   ]
  },
  {
   "cell_type": "code",
   "execution_count": null,
   "id": "32f990d4",
   "metadata": {},
   "outputs": [],
   "source": []
  },
  {
   "cell_type": "code",
   "execution_count": null,
   "id": "68f70ef8",
   "metadata": {},
   "outputs": [],
   "source": [
    "# extract 't' --> new\n",
    "# Python index starts from 0.\n"
   ]
  },
  {
   "cell_type": "code",
   "execution_count": null,
   "id": "ac370f30",
   "metadata": {},
   "outputs": [],
   "source": [
    "# extract 'u'\n"
   ]
  },
  {
   "cell_type": "code",
   "execution_count": null,
   "id": "55a06f81",
   "metadata": {},
   "outputs": [],
   "source": [
    "# extract 'u' to 'a'\n",
    "  # [start:end]end is exclusive\n"
   ]
  },
  {
   "cell_type": "code",
   "execution_count": null,
   "id": "b8916ba5",
   "metadata": {},
   "outputs": [],
   "source": [
    "# Extract 0 to 3rd position elements using :\n",
    "# starts at 0 end with 3rd position\n"
   ]
  },
  {
   "cell_type": "code",
   "execution_count": null,
   "id": "2d15f79b",
   "metadata": {},
   "outputs": [],
   "source": []
  },
  {
   "cell_type": "code",
   "execution_count": null,
   "id": "ef5e5436",
   "metadata": {},
   "outputs": [],
   "source": [
    "# display all the elements using :\n"
   ]
  },
  {
   "cell_type": "code",
   "execution_count": null,
   "id": "5ce02d37",
   "metadata": {},
   "outputs": [],
   "source": []
  },
  {
   "cell_type": "code",
   "execution_count": null,
   "id": "89c1f7eb",
   "metadata": {},
   "outputs": [],
   "source": [
    "# negative indexing"
   ]
  },
  {
   "cell_type": "code",
   "execution_count": null,
   "id": "c9ab3cbe",
   "metadata": {},
   "outputs": [],
   "source": []
  },
  {
   "cell_type": "code",
   "execution_count": null,
   "id": "f734152b",
   "metadata": {},
   "outputs": [],
   "source": [
    "# Extract odd posiiton elements\n",
    "# [start:end:step]"
   ]
  },
  {
   "cell_type": "code",
   "execution_count": null,
   "id": "33e25b34",
   "metadata": {},
   "outputs": [],
   "source": []
  },
  {
   "cell_type": "code",
   "execution_count": null,
   "id": "ad2873ce",
   "metadata": {},
   "outputs": [],
   "source": [
    "# # Extract odd posiiton elements in the reverse order\n"
   ]
  },
  {
   "cell_type": "code",
   "execution_count": null,
   "id": "8e5340d4",
   "metadata": {},
   "outputs": [],
   "source": [
    "# strings are immutable\n",
    "# Cannot do changes on a created string object.\n",
    "first=\"welcome\"\n",
    "second=\"to the country\""
   ]
  },
  {
   "cell_type": "code",
   "execution_count": null,
   "id": "195d4dc9",
   "metadata": {},
   "outputs": [],
   "source": [
    "# change first letter 'w' into 'S'\n"
   ]
  },
  {
   "cell_type": "code",
   "execution_count": null,
   "id": "d3c9785d",
   "metadata": {},
   "outputs": [],
   "source": [
    "# change 3rd position element in the 'first' string object using '+'\n"
   ]
  },
  {
   "cell_type": "code",
   "execution_count": null,
   "id": "58495f2e",
   "metadata": {},
   "outputs": [],
   "source": [
    "#add value 7 to the string object 'second'\n"
   ]
  },
  {
   "cell_type": "code",
   "execution_count": null,
   "id": "e384396b",
   "metadata": {},
   "outputs": [],
   "source": [
    "# add value 6 to the string object 'second ' at 4th position\n"
   ]
  },
  {
   "cell_type": "code",
   "execution_count": null,
   "id": "5b43f165",
   "metadata": {},
   "outputs": [],
   "source": [
    "# display the element of 'first' object 3 times\n"
   ]
  },
  {
   "cell_type": "code",
   "execution_count": null,
   "id": "9d07c436",
   "metadata": {},
   "outputs": [],
   "source": []
  },
  {
   "cell_type": "code",
   "execution_count": null,
   "id": "6d0bc282",
   "metadata": {},
   "outputs": [],
   "source": [
    "# Add two string objects using '+'"
   ]
  },
  {
   "cell_type": "code",
   "execution_count": null,
   "id": "930c4aef",
   "metadata": {},
   "outputs": [],
   "source": []
  },
  {
   "cell_type": "code",
   "execution_count": null,
   "id": "78f8c4b5",
   "metadata": {},
   "outputs": [],
   "source": [
    "### Hands -on-Exercise"
   ]
  },
  {
   "cell_type": "code",
   "execution_count": null,
   "id": "ae349455",
   "metadata": {},
   "outputs": [],
   "source": [
    "# create a string object str1=\"Welcome to our country\"\n",
    "str1=\"Welcome to our country\""
   ]
  },
  {
   "cell_type": "code",
   "execution_count": null,
   "id": "84cc8037",
   "metadata": {},
   "outputs": [],
   "source": [
    "# Extract the word 'country' from the given string 'str1'\n"
   ]
  },
  {
   "cell_type": "code",
   "execution_count": null,
   "id": "432a3013",
   "metadata": {},
   "outputs": [],
   "source": [
    "# Extract the even index elements in the string 'str1'\n"
   ]
  },
  {
   "cell_type": "code",
   "execution_count": null,
   "id": "8aac4700",
   "metadata": {},
   "outputs": [],
   "source": [
    "# add value 6 in the 3rd index of the string object str1\n"
   ]
  },
  {
   "cell_type": "code",
   "execution_count": null,
   "id": "ad3bb776",
   "metadata": {},
   "outputs": [],
   "source": [
    "#Python program to capitalize the first and last character of each word in a strings"
   ]
  },
  {
   "cell_type": "code",
   "execution_count": null,
   "id": "f674c97e",
   "metadata": {},
   "outputs": [],
   "source": [
    "-------------------------------------------------- End ----------------------------------------------------------"
   ]
  }
 ],
 "metadata": {
  "kernelspec": {
   "display_name": "Python 3 (ipykernel)",
   "language": "python",
   "name": "python3"
  },
  "language_info": {
   "codemirror_mode": {
    "name": "ipython",
    "version": 3
   },
   "file_extension": ".py",
   "mimetype": "text/x-python",
   "name": "python",
   "nbconvert_exporter": "python",
   "pygments_lexer": "ipython3",
   "version": "3.9.7"
  }
 },
 "nbformat": 4,
 "nbformat_minor": 5
}
